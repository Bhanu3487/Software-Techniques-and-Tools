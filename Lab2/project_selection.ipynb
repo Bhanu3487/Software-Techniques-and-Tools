{
 "cells": [
  {
   "cell_type": "code",
   "execution_count": 1,
   "metadata": {},
   "outputs": [],
   "source": [
    "#!pip install pandas"
   ]
  },
  {
   "cell_type": "code",
   "execution_count": 10,
   "metadata": {},
   "outputs": [
    {
     "data": {
      "text/plain": [
       "338"
      ]
     },
     "execution_count": 10,
     "metadata": {},
     "output_type": "execute_result"
    }
   ],
   "source": [
    "import pandas as pd\n",
    "\n",
    "# Load the CSV file\n",
    "csv_file = \"filtered_projects.csv\"  \n",
    "data = pd.read_csv(csv_file)\n",
    "\n",
    "# Display the first few rows to understand the structure\n",
    "len(data)\n"
   ]
  },
  {
   "cell_type": "code",
   "execution_count": 3,
   "metadata": {},
   "outputs": [
    {
     "name": "stdout",
     "output_type": "stream",
     "text": [
      "Median of commits: 3081.0\n"
     ]
    }
   ],
   "source": [
    "median_commits = data['commits'].median()\n",
    "print(f\"Median of commits: {median_commits}\")"
   ]
  },
  {
   "cell_type": "code",
   "execution_count": 4,
   "metadata": {},
   "outputs": [
    {
     "name": "stdout",
     "output_type": "stream",
     "text": [
      "Projects with commits greater than 2*median: 116\n"
     ]
    }
   ],
   "source": [
    "# Filter projects with commits greater than the 2*median\n",
    "filtered_data = data[data['commits'] > 2*median_commits]\n",
    "print(f\"Projects with commits greater than 2*median: {len(filtered_data)}\")"
   ]
  },
  {
   "cell_type": "code",
   "execution_count": 5,
   "metadata": {},
   "outputs": [
    {
     "name": "stdout",
     "output_type": "stream",
     "text": [
      "Projects with commits less than 16000: 67\n"
     ]
    }
   ],
   "source": [
    "# Further filter projects with commits < 16,000\n",
    "final_data = filtered_data[filtered_data['commits'] < 16000]\n",
    "print(f\"Projects with commits less than 16000: {len(final_data)}\")"
   ]
  },
  {
   "cell_type": "code",
   "execution_count": 6,
   "metadata": {},
   "outputs": [
    {
     "data": {
      "text/html": [
       "<div>\n",
       "<style scoped>\n",
       "    .dataframe tbody tr th:only-of-type {\n",
       "        vertical-align: middle;\n",
       "    }\n",
       "\n",
       "    .dataframe tbody tr th {\n",
       "        vertical-align: top;\n",
       "    }\n",
       "\n",
       "    .dataframe thead th {\n",
       "        text-align: right;\n",
       "    }\n",
       "</style>\n",
       "<table border=\"1\" class=\"dataframe\">\n",
       "  <thead>\n",
       "    <tr style=\"text-align: right;\">\n",
       "      <th></th>\n",
       "      <th>id</th>\n",
       "      <th>name</th>\n",
       "      <th>isFork</th>\n",
       "      <th>commits</th>\n",
       "      <th>branches</th>\n",
       "      <th>releases</th>\n",
       "      <th>forks</th>\n",
       "      <th>mainLanguage</th>\n",
       "      <th>defaultBranch</th>\n",
       "      <th>license</th>\n",
       "      <th>...</th>\n",
       "      <th>metrics</th>\n",
       "      <th>lastCommit</th>\n",
       "      <th>lastCommitSHA</th>\n",
       "      <th>hasWiki</th>\n",
       "      <th>isArchived</th>\n",
       "      <th>isDisabled</th>\n",
       "      <th>isLocked</th>\n",
       "      <th>languages</th>\n",
       "      <th>labels</th>\n",
       "      <th>topics</th>\n",
       "    </tr>\n",
       "  </thead>\n",
       "  <tbody>\n",
       "    <tr>\n",
       "      <th>11</th>\n",
       "      <td>3927554</td>\n",
       "      <td>pypa/pipenv</td>\n",
       "      <td>False</td>\n",
       "      <td>9054</td>\n",
       "      <td>47</td>\n",
       "      <td>109</td>\n",
       "      <td>1880</td>\n",
       "      <td>Python</td>\n",
       "      <td>main</td>\n",
       "      <td>MIT License</td>\n",
       "      <td>...</td>\n",
       "      <td>[{\"language\":\"Bourne Shell\",\"commentLines\":8,\"...</td>\n",
       "      <td>2025-01-14T10:13:38</td>\n",
       "      <td>94c9658468a8e11243e43d1091b33f56c2d0fefd</td>\n",
       "      <td>True</td>\n",
       "      <td>False</td>\n",
       "      <td>False</td>\n",
       "      <td>False</td>\n",
       "      <td>{\"Python\":7793303,\"Roff\":9386,\"Makefile\":6914,...</td>\n",
       "      <td>--keep-outdated/--selective-upgrade;--system f...</td>\n",
       "      <td>packaging;pip;pipfile;python;virtualenv</td>\n",
       "    </tr>\n",
       "    <tr>\n",
       "      <th>46</th>\n",
       "      <td>3966884</td>\n",
       "      <td>pyca/cryptography</td>\n",
       "      <td>False</td>\n",
       "      <td>13061</td>\n",
       "      <td>39</td>\n",
       "      <td>0</td>\n",
       "      <td>1553</td>\n",
       "      <td>Python</td>\n",
       "      <td>main</td>\n",
       "      <td>Other</td>\n",
       "      <td>...</td>\n",
       "      <td>[{\"language\":\"Go\",\"commentLines\":39,\"codeLines...</td>\n",
       "      <td>2025-01-13T02:44:59</td>\n",
       "      <td>78d354711b20e6e6cb23ca5879cae7030d46673a</td>\n",
       "      <td>False</td>\n",
       "      <td>False</td>\n",
       "      <td>False</td>\n",
       "      <td>False</td>\n",
       "      <td>{\"Python\":2248082,\"Rust\":816136,\"C\":23706,\"She...</td>\n",
       "      <td>administrative;api design;backend;bindings;blo...</td>\n",
       "      <td>cryptography;python</td>\n",
       "    </tr>\n",
       "    <tr>\n",
       "      <th>49</th>\n",
       "      <td>3967864</td>\n",
       "      <td>paddlepaddle/paddleocr</td>\n",
       "      <td>False</td>\n",
       "      <td>6390</td>\n",
       "      <td>18</td>\n",
       "      <td>16</td>\n",
       "      <td>7925</td>\n",
       "      <td>Python</td>\n",
       "      <td>main</td>\n",
       "      <td>Apache License 2.0</td>\n",
       "      <td>...</td>\n",
       "      <td>[{\"language\":\"YAML\",\"commentLines\":273,\"codeLi...</td>\n",
       "      <td>2025-01-09T03:49:23</td>\n",
       "      <td>52bc8f0eaba34604b3a4ee50981714605d34d639</td>\n",
       "      <td>False</td>\n",
       "      <td>False</td>\n",
       "      <td>False</td>\n",
       "      <td>False</td>\n",
       "      <td>{\"Python\":3377719,\"C++\":596946,\"Shell\":243603,...</td>\n",
       "      <td>apple silicon;bug;code pr is needed;community;...</td>\n",
       "      <td>chineseocr;crnn;db;ocr;ocrlite</td>\n",
       "    </tr>\n",
       "    <tr>\n",
       "      <th>52</th>\n",
       "      <td>3967867</td>\n",
       "      <td>netbox-community/netbox</td>\n",
       "      <td>False</td>\n",
       "      <td>13429</td>\n",
       "      <td>27</td>\n",
       "      <td>315</td>\n",
       "      <td>2636</td>\n",
       "      <td>Python</td>\n",
       "      <td>main</td>\n",
       "      <td>Apache License 2.0</td>\n",
       "      <td>...</td>\n",
       "      <td>[{\"language\":\"Jinja Template\",\"commentLines\":0...</td>\n",
       "      <td>2025-01-13T01:50:34</td>\n",
       "      <td>a75fa53d4d2c84cb4c129571a6da83b0f304ec20</td>\n",
       "      <td>True</td>\n",
       "      <td>False</td>\n",
       "      <td>False</td>\n",
       "      <td>False</td>\n",
       "      <td>{\"Python\":12309968,\"HTML\":652212,\"TypeScript\":...</td>\n",
       "      <td>beta;breaking change;complexity: high;complexi...</td>\n",
       "      <td>cabling;dcim;django;infrastructure-management;...</td>\n",
       "    </tr>\n",
       "    <tr>\n",
       "      <th>58</th>\n",
       "      <td>3969295</td>\n",
       "      <td>encode/django-rest-framework</td>\n",
       "      <td>False</td>\n",
       "      <td>8833</td>\n",
       "      <td>18</td>\n",
       "      <td>19</td>\n",
       "      <td>6867</td>\n",
       "      <td>Python</td>\n",
       "      <td>master</td>\n",
       "      <td>Other</td>\n",
       "      <td>...</td>\n",
       "      <td>[{\"language\":\"SVG\",\"commentLines\":0,\"codeLines...</td>\n",
       "      <td>2025-01-10T06:56:36</td>\n",
       "      <td>4a1d773b8f7d86e08e3fd7c6809fd1092eb69d6e</td>\n",
       "      <td>False</td>\n",
       "      <td>False</td>\n",
       "      <td>False</td>\n",
       "      <td>False</td>\n",
       "      <td>{\"Python\":1533982,\"HTML\":85858,\"CSS\":40329,\"Ja...</td>\n",
       "      <td>3.15.1;breaking change;bug;cleanup;dependencie...</td>\n",
       "      <td>api;django;python;rest</td>\n",
       "    </tr>\n",
       "  </tbody>\n",
       "</table>\n",
       "<p>5 rows × 35 columns</p>\n",
       "</div>"
      ],
      "text/plain": [
       "         id                          name  isFork  commits  branches  \\\n",
       "11  3927554                   pypa/pipenv   False     9054        47   \n",
       "46  3966884             pyca/cryptography   False    13061        39   \n",
       "49  3967864        paddlepaddle/paddleocr   False     6390        18   \n",
       "52  3967867       netbox-community/netbox   False    13429        27   \n",
       "58  3969295  encode/django-rest-framework   False     8833        18   \n",
       "\n",
       "    releases  forks mainLanguage defaultBranch             license  ...  \\\n",
       "11       109   1880       Python          main         MIT License  ...   \n",
       "46         0   1553       Python          main               Other  ...   \n",
       "49        16   7925       Python          main  Apache License 2.0  ...   \n",
       "52       315   2636       Python          main  Apache License 2.0  ...   \n",
       "58        19   6867       Python        master               Other  ...   \n",
       "\n",
       "                                              metrics           lastCommit  \\\n",
       "11  [{\"language\":\"Bourne Shell\",\"commentLines\":8,\"...  2025-01-14T10:13:38   \n",
       "46  [{\"language\":\"Go\",\"commentLines\":39,\"codeLines...  2025-01-13T02:44:59   \n",
       "49  [{\"language\":\"YAML\",\"commentLines\":273,\"codeLi...  2025-01-09T03:49:23   \n",
       "52  [{\"language\":\"Jinja Template\",\"commentLines\":0...  2025-01-13T01:50:34   \n",
       "58  [{\"language\":\"SVG\",\"commentLines\":0,\"codeLines...  2025-01-10T06:56:36   \n",
       "\n",
       "                               lastCommitSHA  hasWiki  isArchived isDisabled  \\\n",
       "11  94c9658468a8e11243e43d1091b33f56c2d0fefd     True       False      False   \n",
       "46  78d354711b20e6e6cb23ca5879cae7030d46673a    False       False      False   \n",
       "49  52bc8f0eaba34604b3a4ee50981714605d34d639    False       False      False   \n",
       "52  a75fa53d4d2c84cb4c129571a6da83b0f304ec20     True       False      False   \n",
       "58  4a1d773b8f7d86e08e3fd7c6809fd1092eb69d6e    False       False      False   \n",
       "\n",
       "   isLocked                                          languages  \\\n",
       "11    False  {\"Python\":7793303,\"Roff\":9386,\"Makefile\":6914,...   \n",
       "46    False  {\"Python\":2248082,\"Rust\":816136,\"C\":23706,\"She...   \n",
       "49    False  {\"Python\":3377719,\"C++\":596946,\"Shell\":243603,...   \n",
       "52    False  {\"Python\":12309968,\"HTML\":652212,\"TypeScript\":...   \n",
       "58    False  {\"Python\":1533982,\"HTML\":85858,\"CSS\":40329,\"Ja...   \n",
       "\n",
       "                                               labels  \\\n",
       "11  --keep-outdated/--selective-upgrade;--system f...   \n",
       "46  administrative;api design;backend;bindings;blo...   \n",
       "49  apple silicon;bug;code pr is needed;community;...   \n",
       "52  beta;breaking change;complexity: high;complexi...   \n",
       "58  3.15.1;breaking change;bug;cleanup;dependencie...   \n",
       "\n",
       "                                               topics  \n",
       "11            packaging;pip;pipfile;python;virtualenv  \n",
       "46                                cryptography;python  \n",
       "49                     chineseocr;crnn;db;ocr;ocrlite  \n",
       "52  cabling;dcim;django;infrastructure-management;...  \n",
       "58                             api;django;python;rest  \n",
       "\n",
       "[5 rows x 35 columns]"
      ]
     },
     "execution_count": 6,
     "metadata": {},
     "output_type": "execute_result"
    }
   ],
   "source": [
    "final_data.head()"
   ]
  },
  {
   "cell_type": "code",
   "execution_count": null,
   "metadata": {},
   "outputs": [],
   "source": []
  },
  {
   "cell_type": "code",
   "execution_count": null,
   "metadata": {},
   "outputs": [],
   "source": []
  }
 ],
 "metadata": {
  "kernelspec": {
   "display_name": "Python 3",
   "language": "python",
   "name": "python3"
  },
  "language_info": {
   "codemirror_mode": {
    "name": "ipython",
    "version": 3
   },
   "file_extension": ".py",
   "mimetype": "text/x-python",
   "name": "python",
   "nbconvert_exporter": "python",
   "pygments_lexer": "ipython3",
   "version": "3.12.5"
  }
 },
 "nbformat": 4,
 "nbformat_minor": 2
}
